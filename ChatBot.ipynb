{
 "cells": [
  {
   "cell_type": "code",
   "execution_count": 1,
   "metadata": {},
   "outputs": [],
   "source": [
    "import nltk\n",
    "import numpy as np\n",
    "import string\n",
    "import random as rn"
   ]
  },
  {
   "cell_type": "code",
   "execution_count": 2,
   "metadata": {},
   "outputs": [],
   "source": [
    "file=open(\"ChatBot.txt\",\"r\",errors=\"ignore\")\n",
    "raw_text=file.read()\n",
    "raw_text=raw_text.lower()"
   ]
  },
  {
   "cell_type": "code",
   "execution_count": 3,
   "metadata": {},
   "outputs": [
    {
     "name": "stderr",
     "output_type": "stream",
     "text": [
      "[nltk_data] Downloading package punkt to /home/satyajit1/nltk_data...\n",
      "[nltk_data]   Unzipping tokenizers/punkt.zip.\n",
      "[nltk_data] Downloading package wordnet to\n",
      "[nltk_data]     /home/satyajit1/nltk_data...\n",
      "[nltk_data]   Unzipping corpora/wordnet.zip.\n"
     ]
    },
    {
     "data": {
      "text/plain": [
       "True"
      ]
     },
     "execution_count": 3,
     "metadata": {},
     "output_type": "execute_result"
    }
   ],
   "source": [
    "nltk.download(\"punkt\")\n",
    "nltk.download(\"wordnet\")"
   ]
  },
  {
   "cell_type": "code",
   "execution_count": 4,
   "metadata": {},
   "outputs": [],
   "source": [
    "sent_tokens=nltk.sent_tokenize(raw_text)\n",
    "word_tokens=nltk.word_tokenize(raw_text)"
   ]
  },
  {
   "cell_type": "code",
   "execution_count": 5,
   "metadata": {},
   "outputs": [
    {
     "data": {
      "text/plain": [
       "['\\t\\ndata science\\nfrom wikipedia, the free encyclopedia\\njump to navigation\\njump to search\\nnot to be confused with information science.',\n",
       " 'machine learning and\\ndata mining\\nkernel machine.svg\\nproblems\\n[show]\\nsupervised learning\\n(classification • regression)\\n[show]\\nclustering\\n[show]\\ndimensionality reduction\\n[show]\\nstructured prediction\\n[show]\\nanomaly detection\\n[show]\\nartificial neural networks\\n[show]\\nreinforcement learning\\n[show]\\ntheory\\n[show]\\nmachine-learning venues\\n[show]\\nglossary of artificial intelligence\\n[show]\\nrelated articles\\n[show]\\n\\n    portal-puzzle.svg machine learning portal\\n\\n    vte\\n\\ndata science is a multi-disciplinary field that uses scientific methods, processes, algorithms and systems to extract knowledge and insights from data in various forms, both structured and unstructured,[1][2] similar to data mining.',\n",
       " 'data science is a \"concept to unify statistics, data analysis, machine learning and their related methods\" in order to \"understand and analyze actual phenomena\" with data.']"
      ]
     },
     "execution_count": 5,
     "metadata": {},
     "output_type": "execute_result"
    }
   ],
   "source": [
    "sent_tokens[:3]"
   ]
  },
  {
   "cell_type": "code",
   "execution_count": 6,
   "metadata": {},
   "outputs": [
    {
     "data": {
      "text/plain": [
       "['data', 'science', 'from']"
      ]
     },
     "execution_count": 6,
     "metadata": {},
     "output_type": "execute_result"
    }
   ],
   "source": [
    "word_tokens[:3]"
   ]
  },
  {
   "cell_type": "code",
   "execution_count": 8,
   "metadata": {},
   "outputs": [],
   "source": [
    "lemmer=nltk.stem.WordNetLemmatizer()\n",
    "\n",
    "\n",
    "\n",
    "def lem_token(tokens):\n",
    "    return [lemmer.lemmatize(token) for token in tokens]\n",
    "\n",
    "\n",
    "remove_punct_dict=dict((ord(punct),None) for punct in string.punctuation)\n",
    "\n",
    "\n",
    "def lem_normalize(text):\n",
    "    return lem_tokens(nltk.word_tokenize(text.lower().translate(remove_punct_dict)))"
   ]
  },
  {
   "cell_type": "code",
   "execution_count": 9,
   "metadata": {},
   "outputs": [],
   "source": [
    "GREETING_INPUT=[\"hi\",\"hello\",\"what's up\",\"hey\",\"sup\",\"heylo\"]\n",
    "GREETING_RESPONSE=[\"hi\",\"yes\",\"hello\",\"It's a good thing that you are testing me\"]\n",
    "\n",
    "\n",
    "\n",
    "def greetings(sentence):\n",
    "    for word in sentence.split():\n",
    "        if word in GREETING_INPUT:\n",
    "            return(rn.choice(GREETING_RESPONSE))\n",
    "        else:\n",
    "            return(\"Hey there how may I help you? try me by saying hi\")\n",
    "        \n",
    "        \n",
    "    "
   ]
  },
  {
   "cell_type": "code",
   "execution_count": 11,
   "metadata": {},
   "outputs": [],
   "source": [
    "from sklearn.feature_extraction.text import TfidfVectorizer\n",
    "from sklearn.metrics.pairwise import cosine_similarity"
   ]
  },
  {
   "cell_type": "code",
   "execution_count": 12,
   "metadata": {},
   "outputs": [],
   "source": [
    "def response(user_response):\n",
    "    robo_response=\"\"\n",
    "    sent_tokens.append(user_response)\n",
    "    \n",
    "    TfidfVec=TfidfVectorizer(tokenizer=lem_token,stop_words=\"english\")\n",
    "    tfidf=TfidfVec.fit_transform(sent_tokens)\n",
    "    vals=cosine_similarity(tfidf[-1],tfidf)\n",
    "    idx=vals.argsort()[0][2]\n",
    "    flat=vals.flatten()\n",
    "    flat.sort()\n",
    "    req_tfidf=flat[-2]\n",
    "    \n",
    "    \n",
    "    \n",
    "    if(req_tfidf==0):\n",
    "        robo_response+=\"Please try again or start by saying hello\"\n",
    "        return robo_response\n",
    "    \n",
    "    else:\n",
    "        robo_response+=sent_tokens[idx]\n",
    "        \n",
    "        return robo_response\n",
    "    "
   ]
  },
  {
   "cell_type": "code",
   "execution_count": 19,
   "metadata": {},
   "outputs": [
    {
     "name": "stdout",
     "output_type": "stream",
     "text": [
      "Hi my name is chatbot i will answer your all query regarding data science if you want to leave me type exit\n",
      "hi\n",
      "ROBO:It's a good thing that you are testing me\n",
      "thanks\n",
      "Good to have you here have a nice day\n"
     ]
    }
   ],
   "source": [
    "flag=True\n",
    "\n",
    "print(\"Hi my name is chatbot i will answer your all query regarding data science if you want to leave me type exit\")\n",
    "\n",
    "while(flag==True):\n",
    "    user_response=input()\n",
    "    user_response=user_response.lower()\n",
    "    if(user_response !=\"bye\"):\n",
    "        if(user_response in [\"thanks\",\"thank you\",\"thank\"]):\n",
    "            flag=False\n",
    "            print(\"Good to have you here have a nice day\")\n",
    "            \n",
    "        else:\n",
    "            if(greetings(user_response)!=None):\n",
    "                print(\"ROBO:\"+greetings(user_response))\n",
    "                \n",
    "                \n",
    "            else:\n",
    "                print(\"ROBO:\",end=\"\")\n",
    "                print(response(user_response))\n",
    "                \n",
    "                \n",
    "    else:\n",
    "        flag=False\n",
    "        print(\"ROBO:Take care or start your session again! i dont run on big data sorry for that\")"
   ]
  },
  {
   "cell_type": "code",
   "execution_count": null,
   "metadata": {},
   "outputs": [],
   "source": []
  }
 ],
 "metadata": {
  "kernelspec": {
   "display_name": "Python 3",
   "language": "python",
   "name": "python3"
  },
  "language_info": {
   "codemirror_mode": {
    "name": "ipython",
    "version": 3
   },
   "file_extension": ".py",
   "mimetype": "text/x-python",
   "name": "python",
   "nbconvert_exporter": "python",
   "pygments_lexer": "ipython3",
   "version": "3.7.1"
  }
 },
 "nbformat": 4,
 "nbformat_minor": 2
}
